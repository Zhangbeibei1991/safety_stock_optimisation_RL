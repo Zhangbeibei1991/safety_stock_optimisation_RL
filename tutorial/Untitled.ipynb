{
 "cells": [
  {
   "cell_type": "code",
   "execution_count": null,
   "metadata": {},
   "outputs": [],
   "source": []
  },
  {
   "cell_type": "code",
   "execution_count": 1,
   "metadata": {},
   "outputs": [],
   "source": [
    "import tensorflow as tf\n",
    "from tensorflow.keras import Input, layers, Model, losses, optimizers\n",
    "import tensorflow_probability as tfp"
   ]
  },
  {
   "cell_type": "code",
   "execution_count": 4,
   "metadata": {},
   "outputs": [],
   "source": [
    "import numpy as np"
   ]
  },
  {
   "cell_type": "code",
   "execution_count": 13,
   "metadata": {},
   "outputs": [],
   "source": [
    "state = np.array([0, 0, 0])\n",
    "state = np.reshape(state, (1, 3))\n",
    "action = np.array([10]) \n",
    "y = np.array([-60000])"
   ]
  },
  {
   "cell_type": "code",
   "execution_count": 15,
   "metadata": {},
   "outputs": [
    {
     "name": "stdout",
     "output_type": "stream",
     "text": [
      "WARNING:tensorflow:Output tf_op_layer_Reshape_6 missing from loss dictionary. We assume this was done on purpose. The fit and evaluate APIs will not be expecting any data to be passed to tf_op_layer_Reshape_6.\n",
      "WARNING:tensorflow:Output dense_6 missing from loss dictionary. We assume this was done on purpose. The fit and evaluate APIs will not be expecting any data to be passed to dense_6.\n",
      "Train on 1 samples\n",
      "1/1 [==============================] - 0s 140ms/sample - loss: -3055136.2500\n"
     ]
    },
    {
     "data": {
      "text/plain": [
       "[array([[[-1.2866951 , -0.44198593, -0.4905026 ]]], dtype=float32),\n",
       " array([[-0.001, -0.001, -0.001]], dtype=float32)]"
      ]
     },
     "execution_count": 15,
     "metadata": {},
     "output_type": "execute_result"
    }
   ],
   "source": [
    "\"\"\"\n",
    "https://stackoverflow.com/questions/51680818/keras-custom-loss-as-a-function-of-multiple-outputs/51685637\n",
    "\"\"\"\n",
    "\n",
    "inputs = Input(shape=(3,))\n",
    "prevAction = Input(shape=(1,))\n",
    "target = Input(shape=(1,))\n",
    "\n",
    "mu = layers.Dense(3)(inputs)\n",
    "std = 1.0\n",
    "\n",
    "\n",
    "normal_dist = tfp.distributions.Normal(mu, std)\n",
    "# normal distribution\n",
    "# sampling\n",
    "def sampling(args):\n",
    "    return normal_dist.sample(1)\n",
    "\n",
    "a = layers.Lambda(sampling, output_shape=(3,))([mu, std])\n",
    "# clipping\n",
    "# a = tf.clip_by_value(a, env.action_space.low[0], env.action_space.high[0])\n",
    "\n",
    "# consider training in a batch for 1-episode, speed up\n",
    "outputs = a\n",
    "model = Model(inputs=[inputs, prevAction, target], outputs=[outputs, mu])\n",
    "\n",
    "loss = -normal_dist.log_prob(prevAction) * target\n",
    "optimizer = \"Adam\"\n",
    "model.add_loss(loss)\n",
    "model.compile(optimizer=optimizer)\n",
    "\n",
    "model.fit([state, action, y])\n",
    "\n",
    "model.predict([state, action, y])"
   ]
  },
  {
   "cell_type": "code",
   "execution_count": 16,
   "metadata": {},
   "outputs": [
    {
     "name": "stdout",
     "output_type": "stream",
     "text": [
      "Model: \"model_5\"\n",
      "__________________________________________________________________________________________________\n",
      "Layer (type)                    Output Shape         Param #     Connected to                     \n",
      "==================================================================================================\n",
      "input_19 (InputLayer)           [(None, 3)]          0                                            \n",
      "__________________________________________________________________________________________________\n",
      "dense_6 (Dense)                 (None, 3)            12          input_19[0][0]                   \n",
      "__________________________________________________________________________________________________\n",
      "tf_op_layer_Identity_6 (TensorF [(None, 3)]          0           dense_6[0][0]                    \n",
      "__________________________________________________________________________________________________\n",
      "tf_op_layer_Shape_12 (TensorFlo [(2,)]               0           tf_op_layer_Identity_6[0][0]     \n",
      "__________________________________________________________________________________________________\n",
      "tf_op_layer_BroadcastArgs_6 (Te [(2,)]               0           tf_op_layer_Shape_12[0][0]       \n",
      "__________________________________________________________________________________________________\n",
      "tf_op_layer_concat_12 (TensorFl [(3,)]               0           tf_op_layer_BroadcastArgs_6[0][0]\n",
      "__________________________________________________________________________________________________\n",
      "tf_op_layer_random_normal_6/Ran [(1, None, None)]    0           tf_op_layer_concat_12[0][0]      \n",
      "__________________________________________________________________________________________________\n",
      "tf_op_layer_random_normal_6/mul [(1, None, None)]    0           tf_op_layer_random_normal_6/Rando\n",
      "__________________________________________________________________________________________________\n",
      "tf_op_layer_random_normal_6 (Te [(1, None, None)]    0           tf_op_layer_random_normal_6/mul[0\n",
      "__________________________________________________________________________________________________\n",
      "tf_op_layer_mul_16 (TensorFlowO [(1, None, None)]    0           tf_op_layer_random_normal_6[0][0]\n",
      "__________________________________________________________________________________________________\n",
      "tf_op_layer_add_6 (TensorFlowOp [(1, None, 3)]       0           tf_op_layer_mul_16[0][0]         \n",
      "                                                                 tf_op_layer_Identity_6[0][0]     \n",
      "__________________________________________________________________________________________________\n",
      "tf_op_layer_Shape_13 (TensorFlo [(3,)]               0           tf_op_layer_add_6[0][0]          \n",
      "__________________________________________________________________________________________________\n",
      "tf_op_layer_strided_slice_6 (Te [(2,)]               0           tf_op_layer_Shape_13[0][0]       \n",
      "__________________________________________________________________________________________________\n",
      "tf_op_layer_concat_13 (TensorFl [(3,)]               0           tf_op_layer_strided_slice_6[0][0]\n",
      "__________________________________________________________________________________________________\n",
      "input_20 (InputLayer)           [(None, 1)]          0                                            \n",
      "__________________________________________________________________________________________________\n",
      "input_21 (InputLayer)           [(None, 1)]          0                                            \n",
      "__________________________________________________________________________________________________\n",
      "tf_op_layer_Reshape_6 (TensorFl [(1, None, 3)]       0           tf_op_layer_add_6[0][0]          \n",
      "                                                                 tf_op_layer_concat_13[0][0]      \n",
      "__________________________________________________________________________________________________\n",
      "tf_op_layer_sub_10 (TensorFlowO [(None, 3)]          0           input_20[0][0]                   \n",
      "                                                                 tf_op_layer_Identity_6[0][0]     \n",
      "__________________________________________________________________________________________________\n",
      "tf_op_layer_truediv_5 (TensorFl [(None, 3)]          0           tf_op_layer_sub_10[0][0]         \n",
      "__________________________________________________________________________________________________\n",
      "tf_op_layer_Square_5 (TensorFlo [(None, 3)]          0           tf_op_layer_truediv_5[0][0]      \n",
      "__________________________________________________________________________________________________\n",
      "tf_op_layer_mul_17 (TensorFlowO [(None, 3)]          0           tf_op_layer_Square_5[0][0]       \n",
      "__________________________________________________________________________________________________\n",
      "tf_op_layer_sub_11 (TensorFlowO [(None, 3)]          0           tf_op_layer_mul_17[0][0]         \n",
      "__________________________________________________________________________________________________\n",
      "tf_op_layer_Neg_5 (TensorFlowOp [(None, 3)]          0           tf_op_layer_sub_11[0][0]         \n",
      "__________________________________________________________________________________________________\n",
      "tf_op_layer_mul_18 (TensorFlowO [(None, 3)]          0           tf_op_layer_Neg_5[0][0]          \n",
      "                                                                 input_21[0][0]                   \n",
      "__________________________________________________________________________________________________\n",
      "add_loss_5 (AddLoss)            (None, 3)            0           tf_op_layer_mul_18[0][0]         \n",
      "==================================================================================================\n",
      "Total params: 12\n",
      "Trainable params: 12\n",
      "Non-trainable params: 0\n",
      "__________________________________________________________________________________________________\n"
     ]
    }
   ],
   "source": [
    "model.summary()"
   ]
  },
  {
   "cell_type": "markdown",
   "metadata": {},
   "source": [
    "([-1226.140364950204, -1226.140364950204, 1232.2206230353208],\n",
    " array([10., 10., 10.]))"
   ]
  }
 ],
 "metadata": {
  "kernelspec": {
   "display_name": "Python 3",
   "language": "python",
   "name": "python3"
  },
  "language_info": {
   "codemirror_mode": {
    "name": "ipython",
    "version": 3
   },
   "file_extension": ".py",
   "mimetype": "text/x-python",
   "name": "python",
   "nbconvert_exporter": "python",
   "pygments_lexer": "ipython3",
   "version": "3.7.4"
  }
 },
 "nbformat": 4,
 "nbformat_minor": 2
}
