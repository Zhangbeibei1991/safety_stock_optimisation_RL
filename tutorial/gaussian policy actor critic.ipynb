{
 "cells": [
  {
   "cell_type": "code",
   "execution_count": 1,
   "metadata": {},
   "outputs": [
    {
     "name": "stderr",
     "output_type": "stream",
     "text": [
      "/home/eek31/Documents/openai/gym/gym/logger.py:30: UserWarning: \u001b[33mWARN: Box bound precision lowered by casting to float32\u001b[0m\n",
      "  warnings.warn(colorize('%s: %s'%('WARN', msg % args), 'yellow'))\n"
     ]
    }
   ],
   "source": [
    "import numpy as np\n",
    "import gym\n",
    "import random\n",
    "from tqdm import tqdm\n",
    "import matplotlib.pyplot as plt\n",
    "\n",
    "%matplotlib inline\n",
    "\n",
    "env = gym.make('MountainCarContinuous-v0')"
   ]
  },
  {
   "cell_type": "code",
   "execution_count": 2,
   "metadata": {},
   "outputs": [],
   "source": [
    "# preprocessing\n",
    "import sklearn.pipeline\n",
    "import sklearn.preprocessing\n",
    "from sklearn.kernel_approximation import RBFSampler\n",
    "\n",
    "# Feature Preprocessing: Normalize to zero mean and unit variance\n",
    "# We use a few samples from the observation space to do this\n",
    "observation_examples = np.array([env.observation_space.sample() for x in range(10000)])\n",
    "scaler = sklearn.preprocessing.StandardScaler()\n",
    "scaler.fit(observation_examples)\n",
    "\n",
    "# Used to converte a state to a featurizes represenation.\n",
    "# We use RBF kernels with different variances to cover different parts of the space\n",
    "featurizer = sklearn.pipeline.FeatureUnion([\n",
    "        (\"rbf1\", RBFSampler(gamma=5.0, n_components=100)),\n",
    "        (\"rbf2\", RBFSampler(gamma=2.0, n_components=100)),\n",
    "        (\"rbf3\", RBFSampler(gamma=1.0, n_components=100)),\n",
    "        (\"rbf4\", RBFSampler(gamma=0.5, n_components=100))\n",
    "        ])\n",
    "featurizer.fit(scaler.transform(observation_examples))\n",
    "\n",
    "def featurize_state(state):\n",
    "    \"\"\"\n",
    "    Returns the featurized representation for a state.\n",
    "    \"\"\"\n",
    "    scaled = scaler.transform([state])\n",
    "    featurized = featurizer.transform(scaled)\n",
    "    return featurized[0]"
   ]
  },
  {
   "cell_type": "code",
   "execution_count": 3,
   "metadata": {},
   "outputs": [],
   "source": [
    "import math"
   ]
  },
  {
   "cell_type": "code",
   "execution_count": 4,
   "metadata": {},
   "outputs": [],
   "source": [
    "class PolicyEstimator():\n",
    "    def __init__(self, α = 0.01):\n",
    "        self.θ = np.zeros(400, ) #np.random.rand(400,)\n",
    "        self.σ = 1\n",
    "        self.α = α\n",
    "        \n",
    "        self.losses = []\n",
    "\n",
    "        self.v_dθ = np.zeros(400,)\n",
    "        self.β = 0.9\n",
    "        self.ε = 1e-10\n",
    "        \n",
    "    def mu_state(self, state):\n",
    "        mu = self.θ @ state\n",
    "        \n",
    "        return mu\n",
    "    \n",
    "    def reset(self):\n",
    "        self.v_dθ = np.zeros(400,)\n",
    "        \n",
    "    def predict(self, state):\n",
    "        mu = self.mu_state(state)\n",
    "        \n",
    "        action = np.random.normal(mu, self.σ, size=(1,))\n",
    "        action = np.clip(action, env.action_space.low[0], env.action_space.high[0])\n",
    "\n",
    "        return action\n",
    "    \n",
    "    def update(self, state, target, action):\n",
    "        mu = self.mu_state(state)\n",
    "        action = self.predict(state)\n",
    "\n",
    "        # track losses\n",
    "        loss = (-0.5*(((action - mu)/self.σ)**2) - np.log(np.sqrt(2*math.pi))) * target\n",
    "        self.losses.append(loss)\n",
    "        \n",
    "        # update θ\n",
    "        dloss = -((action - mu)/(self.σ**2)) * state * target\n",
    "#         # minimize SGD\n",
    "#         self.θ -= self.α * dloss\n",
    "        # minimize RMSPROP\n",
    "        self.v_dθ = self.β * self.v_dθ + (1 - self.β) * (dloss**2) \n",
    "        self.θ -= self.α * dloss/(np.sqrt(self.v_dθ) + self.ε)\n",
    "        \n",
    "#         print(action, self.predict(state))\n",
    "#         print()\n",
    "#         print(\"PolicyEstimator\", loss, 0.5*(((self.predict(state) - self.mu_state(state))/self.σ)**2) * target)"
   ]
  },
  {
   "cell_type": "code",
   "execution_count": 5,
   "metadata": {},
   "outputs": [],
   "source": [
    "from scipy.spatial import distance"
   ]
  },
  {
   "cell_type": "code",
   "execution_count": 6,
   "metadata": {},
   "outputs": [],
   "source": [
    "class ValueEstimator():\n",
    "    def __init__(self, α = 0.1):\n",
    "        self.w = np.zeros(400, ) #np.random.rand(400,)\n",
    "        self.α = α\n",
    "        self.losses = []\n",
    "        \n",
    "        self.v_dw = np.zeros(400,)\n",
    "        self.β = 0.9\n",
    "        self.ε = 1e-10\n",
    "        \n",
    "    def reset(self):\n",
    "        self.v_dw = np.zeros(400,)\n",
    "        \n",
    "    def predict(self, state):\n",
    "        value = self.w @ state\n",
    "        return value\n",
    "    \n",
    "    def update(self, state, target):\n",
    "        value = self.predict(state)\n",
    "        \n",
    "        # update loss\n",
    "        loss = distance.euclidean(value, target)\n",
    "        self.losses.append(loss)\n",
    "        \n",
    "        # update w\n",
    "        dloss = 2*(value - target)*state\n",
    "#         # minimize SGD\n",
    "#         self.w -= self.α * dloss\n",
    "        # minimize RMSPROP\n",
    "        self.v_dw = self.β * self.v_dw + (1 - self.β) * (dloss**2) \n",
    "        self.w -= self.α * dloss/(np.sqrt(self.v_dw) + self.ε)\n",
    "        \n",
    "#         print(\"ValueEstimator\", loss, distance.euclidean(self.predict(state), target))\n"
   ]
  },
  {
   "cell_type": "code",
   "execution_count": null,
   "metadata": {},
   "outputs": [],
   "source": []
  },
  {
   "cell_type": "code",
   "execution_count": 7,
   "metadata": {},
   "outputs": [],
   "source": [
    "from tqdm import tqdm_notebook\n",
    "import time"
   ]
  },
  {
   "cell_type": "code",
   "execution_count": 13,
   "metadata": {},
   "outputs": [],
   "source": [
    "policy_estimator = PolicyEstimator(α=0.001)\n",
    "value_estimator = ValueEstimator(α=0.1)"
   ]
  },
  {
   "cell_type": "code",
   "execution_count": 14,
   "metadata": {
    "scrolled": true
   },
   "outputs": [
    {
     "data": {
      "application/vnd.jupyter.widget-view+json": {
       "model_id": "c8676da9124d415db78c2983bf10bcfe",
       "version_major": 2,
       "version_minor": 0
      },
      "text/plain": [
       "HBox(children=(IntProgress(value=0, max=1000), HTML(value='')))"
      ]
     },
     "metadata": {},
     "output_type": "display_data"
    },
    {
     "name": "stdout",
     "output_type": "stream",
     "text": [
      "\n"
     ]
    },
    {
     "data": {
      "application/vnd.jupyter.widget-view+json": {
       "model_id": "707be2ecbb694604b52b688354fb6f6d",
       "version_major": 2,
       "version_minor": 0
      },
      "text/plain": [
       "HBox(children=(IntProgress(value=0, max=1000), HTML(value='')))"
      ]
     },
     "metadata": {},
     "output_type": "display_data"
    },
    {
     "name": "stdout",
     "output_type": "stream",
     "text": [
      "\n"
     ]
    },
    {
     "data": {
      "application/vnd.jupyter.widget-view+json": {
       "model_id": "de5db874837140bbb24901f6b8636599",
       "version_major": 2,
       "version_minor": 0
      },
      "text/plain": [
       "HBox(children=(IntProgress(value=0, max=1000), HTML(value='')))"
      ]
     },
     "metadata": {},
     "output_type": "display_data"
    },
    {
     "name": "stdout",
     "output_type": "stream",
     "text": [
      "\n"
     ]
    },
    {
     "data": {
      "application/vnd.jupyter.widget-view+json": {
       "model_id": "d31ae3c66fc04914b4d0256f4d49f499",
       "version_major": 2,
       "version_minor": 0
      },
      "text/plain": [
       "HBox(children=(IntProgress(value=0, max=1000), HTML(value='')))"
      ]
     },
     "metadata": {},
     "output_type": "display_data"
    },
    {
     "name": "stdout",
     "output_type": "stream",
     "text": [
      "\n"
     ]
    },
    {
     "data": {
      "application/vnd.jupyter.widget-view+json": {
       "model_id": "ec152fd7022c427ba80c3ede56ba8fc3",
       "version_major": 2,
       "version_minor": 0
      },
      "text/plain": [
       "HBox(children=(IntProgress(value=0, max=1000), HTML(value='')))"
      ]
     },
     "metadata": {},
     "output_type": "display_data"
    },
    {
     "data": {
      "application/vnd.jupyter.widget-view+json": {
       "model_id": "fb118db5e08b4e7caa3102e0ca928547",
       "version_major": 2,
       "version_minor": 0
      },
      "text/plain": [
       "HBox(children=(IntProgress(value=0, max=1000), HTML(value='')))"
      ]
     },
     "metadata": {},
     "output_type": "display_data"
    },
    {
     "name": "stdout",
     "output_type": "stream",
     "text": [
      "\n"
     ]
    },
    {
     "data": {
      "application/vnd.jupyter.widget-view+json": {
       "model_id": "51fb66a212d2486bb27f3721d9110dd5",
       "version_major": 2,
       "version_minor": 0
      },
      "text/plain": [
       "HBox(children=(IntProgress(value=0, max=1000), HTML(value='')))"
      ]
     },
     "metadata": {},
     "output_type": "display_data"
    },
    {
     "data": {
      "application/vnd.jupyter.widget-view+json": {
       "model_id": "70c52b977c2644498089a45e650d601f",
       "version_major": 2,
       "version_minor": 0
      },
      "text/plain": [
       "HBox(children=(IntProgress(value=0, max=1000), HTML(value='')))"
      ]
     },
     "metadata": {},
     "output_type": "display_data"
    },
    {
     "data": {
      "application/vnd.jupyter.widget-view+json": {
       "model_id": "164dc1ba19144d3e8f5d937b35fa6b85",
       "version_major": 2,
       "version_minor": 0
      },
      "text/plain": [
       "HBox(children=(IntProgress(value=0, max=1000), HTML(value='')))"
      ]
     },
     "metadata": {},
     "output_type": "display_data"
    },
    {
     "name": "stdout",
     "output_type": "stream",
     "text": [
      "\n"
     ]
    },
    {
     "data": {
      "application/vnd.jupyter.widget-view+json": {
       "model_id": "1d54844eb87b4c8ab22a7a7b8180c616",
       "version_major": 2,
       "version_minor": 0
      },
      "text/plain": [
       "HBox(children=(IntProgress(value=0, max=1000), HTML(value='')))"
      ]
     },
     "metadata": {},
     "output_type": "display_data"
    },
    {
     "data": {
      "application/vnd.jupyter.widget-view+json": {
       "model_id": "4727d04654c84527823892778acae6d7",
       "version_major": 2,
       "version_minor": 0
      },
      "text/plain": [
       "HBox(children=(IntProgress(value=0, max=1000), HTML(value='')))"
      ]
     },
     "metadata": {},
     "output_type": "display_data"
    },
    {
     "data": {
      "application/vnd.jupyter.widget-view+json": {
       "model_id": "48fede4ecb8c40e58bac78d486beb876",
       "version_major": 2,
       "version_minor": 0
      },
      "text/plain": [
       "HBox(children=(IntProgress(value=0, max=1000), HTML(value='')))"
      ]
     },
     "metadata": {},
     "output_type": "display_data"
    },
    {
     "name": "stdout",
     "output_type": "stream",
     "text": [
      "\n",
      "\n"
     ]
    },
    {
     "data": {
      "application/vnd.jupyter.widget-view+json": {
       "model_id": "a51894db96bc4768a1e58e46b4483e5b",
       "version_major": 2,
       "version_minor": 0
      },
      "text/plain": [
       "HBox(children=(IntProgress(value=0, max=1000), HTML(value='')))"
      ]
     },
     "metadata": {},
     "output_type": "display_data"
    },
    {
     "data": {
      "application/vnd.jupyter.widget-view+json": {
       "model_id": "b18601f04a404686a9a2f5c17bbe86d1",
       "version_major": 2,
       "version_minor": 0
      },
      "text/plain": [
       "HBox(children=(IntProgress(value=0, max=1000), HTML(value='')))"
      ]
     },
     "metadata": {},
     "output_type": "display_data"
    },
    {
     "data": {
      "application/vnd.jupyter.widget-view+json": {
       "model_id": "fe65a15225864cb0be7d4fb5b1fcbd74",
       "version_major": 2,
       "version_minor": 0
      },
      "text/plain": [
       "HBox(children=(IntProgress(value=0, max=1000), HTML(value='')))"
      ]
     },
     "metadata": {},
     "output_type": "display_data"
    },
    {
     "name": "stdout",
     "output_type": "stream",
     "text": [
      "\n",
      "\n"
     ]
    },
    {
     "data": {
      "application/vnd.jupyter.widget-view+json": {
       "model_id": "71304da5f31e4381b54a01edfe61d2aa",
       "version_major": 2,
       "version_minor": 0
      },
      "text/plain": [
       "HBox(children=(IntProgress(value=0, max=1000), HTML(value='')))"
      ]
     },
     "metadata": {},
     "output_type": "display_data"
    },
    {
     "data": {
      "application/vnd.jupyter.widget-view+json": {
       "model_id": "ad2de68bd96f4320a2561c4a23b7e7bb",
       "version_major": 2,
       "version_minor": 0
      },
      "text/plain": [
       "HBox(children=(IntProgress(value=0, max=1000), HTML(value='')))"
      ]
     },
     "metadata": {},
     "output_type": "display_data"
    },
    {
     "data": {
      "application/vnd.jupyter.widget-view+json": {
       "model_id": "d9c48df4248342a0a98ea624b3b5f41b",
       "version_major": 2,
       "version_minor": 0
      },
      "text/plain": [
       "HBox(children=(IntProgress(value=0, max=1000), HTML(value='')))"
      ]
     },
     "metadata": {},
     "output_type": "display_data"
    },
    {
     "name": "stdout",
     "output_type": "stream",
     "text": [
      "\n",
      "\n"
     ]
    },
    {
     "data": {
      "application/vnd.jupyter.widget-view+json": {
       "model_id": "1f2ae490a88d4fc882886de13feafc33",
       "version_major": 2,
       "version_minor": 0
      },
      "text/plain": [
       "HBox(children=(IntProgress(value=0, max=1000), HTML(value='')))"
      ]
     },
     "metadata": {},
     "output_type": "display_data"
    },
    {
     "data": {
      "application/vnd.jupyter.widget-view+json": {
       "model_id": "72eedd8eac3647fbb6dc29e5e191b005",
       "version_major": 2,
       "version_minor": 0
      },
      "text/plain": [
       "HBox(children=(IntProgress(value=0, max=1000), HTML(value='')))"
      ]
     },
     "metadata": {},
     "output_type": "display_data"
    }
   ],
   "source": [
    "\"\"\"\n",
    "TRAIN\n",
    "\"\"\"\n",
    "\n",
    "num_episodes = 20\n",
    "num_steps = 1000\n",
    "discount_factor=0.95\n",
    "\n",
    "for i in range(num_episodes):\n",
    "    policy_estimator.reset()\n",
    "    value_estimator.reset()\n",
    "    \n",
    "    # set v_dw and v_dθ to 0\n",
    "    state = env.reset()\n",
    "    state = featurize_state(state)\n",
    "\n",
    "    for t in tqdm_notebook(range(num_steps)):\n",
    "        if i % 10 == 0:\n",
    "            env.render()\n",
    "        # take action\n",
    "        action = policy_estimator.predict(state)\n",
    "\n",
    "        # execute action\n",
    "        next_state, reward, done, _ = env.step(action)\n",
    "        next_state = featurize_state(next_state)\n",
    "\n",
    "        # calculate TD target\n",
    "        value_now = value_estimator.predict(state)\n",
    "        value_next = value_estimator.predict(next_state)\n",
    "        td_target = reward + discount_factor * value_next\n",
    "        td_error = td_target - value_now\n",
    "\n",
    "        # update the value estimator\n",
    "        value_estimator.update(state, td_target)\n",
    "        # update the policy estimator\n",
    "        policy_estimator.update(state, td_error, action)\n",
    "\n",
    "#         print(state, action, value_now, value_next, td_error)\n",
    "\n",
    "        if done & (t <= 900):\n",
    "            env.render()\n",
    "            time.sleep(1)\n",
    "            env.close()\n",
    "            \n",
    "            break\n",
    "\n",
    "        state = next_state\n",
    "    \n",
    "    env.close()"
   ]
  },
  {
   "cell_type": "code",
   "execution_count": 15,
   "metadata": {},
   "outputs": [
    {
     "data": {
      "application/vnd.jupyter.widget-view+json": {
       "model_id": "3b1067f7beff4e33b9c51c555b158b92",
       "version_major": 2,
       "version_minor": 0
      },
      "text/plain": [
       "HBox(children=(IntProgress(value=0, max=1000), HTML(value='')))"
      ]
     },
     "metadata": {},
     "output_type": "display_data"
    }
   ],
   "source": [
    "\"\"\"\n",
    "TEST\n",
    "\"\"\"\n",
    "\n",
    "num_steps = 1000\n",
    "\n",
    "state = env.reset()\n",
    "state = featurize_state(state)\n",
    "\n",
    "policy_estimator.σ = 0\n",
    "for t in tqdm_notebook(range(num_steps)):\n",
    "    env.render()\n",
    "    \n",
    "    # take action\n",
    "    action = policy_estimator.predict(state)\n",
    "\n",
    "    # execute action\n",
    "    next_state, reward, done, _ = env.step(action)\n",
    "    next_state = featurize_state(next_state)\n",
    "\n",
    "\n",
    "    if done & (t < 900):\n",
    "        break\n",
    "\n",
    "    state = next_state\n",
    "    time.sleep(0.01)\n",
    "\n",
    "env.close()"
   ]
  },
  {
   "cell_type": "code",
   "execution_count": 10,
   "metadata": {},
   "outputs": [
    {
     "data": {
      "image/png": "[encoded data removed]",
      "text/plain": [
       "<Figure size 432x288 with 1 Axes>"
      ]
     },
     "metadata": {
      "needs_background": "light"
     },
     "output_type": "display_data"
    },
    {
     "data": {
      "image/png": "[encoded data removed]",
      "text/plain": [
       "<Figure size 432x288 with 1 Axes>"
      ]
     },
     "metadata": {
      "needs_background": "light"
     },
     "output_type": "display_data"
    },
    {
     "data": {
      "text/plain": [
       "100.046767449445"
      ]
     },
     "execution_count": 10,
     "metadata": {},
     "output_type": "execute_result"
    }
   ],
   "source": [
    "plt.plot(policy_estimator.losses, \".\", alpha=0.2)\n",
    "plt.title(\"policy_estimator.losses\")\n",
    "plt.show()\n",
    "\n",
    "plt.plot(value_estimator.losses, \".\", alpha=0.2)\n",
    "# plt.ylim((0, 2))\n",
    "plt.title(\"value_estimator.losses\")\n",
    "plt.show()\n",
    "\n",
    "max(value_estimator.losses)"
   ]
  },
  {
   "cell_type": "code",
   "execution_count": 12,
   "metadata": {},
   "outputs": [
    {
     "data": {
      "image/png": "[encoded data removed]",
      "text/plain": [
       "<Figure size 432x288 with 1 Axes>"
      ]
     },
     "metadata": {
      "needs_background": "light"
     },
     "output_type": "display_data"
    },
    {
     "data": {
      "image/png": "[encoded data removed]",
      "text/plain": [
       "<Figure size 432x288 with 1 Axes>"
      ]
     },
     "metadata": {
      "needs_background": "light"
     },
     "output_type": "display_data"
    }
   ],
   "source": [
    "plt.plot(policy_estimator.θ)\n",
    "plt.show()\n",
    "\n",
    "plt.plot(value_estimator.w)\n",
    "plt.show()"
   ]
  },
  {
   "cell_type": "code",
   "execution_count": null,
   "metadata": {},
   "outputs": [],
   "source": [
    "# need to decay learning rate if we always want to converge"
   ]
  },
  {
   "cell_type": "code",
   "execution_count": null,
   "metadata": {},
   "outputs": [],
   "source": []
  },
  {
   "cell_type": "code",
   "execution_count": null,
   "metadata": {},
   "outputs": [],
   "source": []
  }
 ],
 "metadata": {
  "kernelspec": {
   "display_name": "Python 3",
   "language": "python",
   "name": "python3"
  },
  "language_info": {
   "codemirror_mode": {
    "name": "ipython",
    "version": 3
   },
   "file_extension": ".py",
   "mimetype": "text/x-python",
   "name": "python",
   "nbconvert_exporter": "python",
   "pygments_lexer": "ipython3",
   "version": "3.7.4"
  }
 },
 "nbformat": 4,
 "nbformat_minor": 2
}
